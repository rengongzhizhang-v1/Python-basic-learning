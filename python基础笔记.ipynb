{
 "cells": [
  {
   "cell_type": "markdown",
   "metadata": {},
   "source": [
    "## 一、数据类型及对应计算与操作"
   ]
  },
  {
   "cell_type": "markdown",
   "metadata": {},
   "source": [
    "### 数字(Number) —— 不可变"
   ]
  },
  {
   "cell_type": "markdown",
   "metadata": {},
   "source": [
    "**类型**\n",
    "* int（整数） 如：1\n",
    "* bool（布尔） 如：True False\n",
    "* float（浮点数） 如：1.23、3E-2\n",
    "* complex（复数） 如：1 + 2j、1.1 + 2.2j"
   ]
  },
  {
   "cell_type": "markdown",
   "metadata": {},
   "source": [
    "**数据类型判断函数**"
   ]
  },
  {
   "cell_type": "code",
   "execution_count": 148,
   "metadata": {},
   "outputs": [
    {
     "name": "stdout",
     "output_type": "stream",
     "text": [
      "<class 'int'>\n",
      "True\n",
      "<class 'float'>\n",
      "False\n",
      "<class 'complex'>\n",
      "False\n",
      "<class 'bool'>\n",
      "True\n"
     ]
    }
   ],
   "source": [
    "a = 123\n",
    "b = 1.23\n",
    "c = 1 + 1j\n",
    "d = True\n",
    "\n",
    "print(type(a))\n",
    "print(isinstance(a, int))\n",
    "\n",
    "print(type(b))\n",
    "print(isinstance(b, int))\n",
    "\n",
    "print(type(c))\n",
    "print(isinstance(c, int))\n",
    "\n",
    "print(type(d))\n",
    "print(isinstance(d, bool))"
   ]
  },
  {
   "cell_type": "markdown",
   "metadata": {},
   "source": [
    "**运算**"
   ]
  },
  {
   "cell_type": "code",
   "execution_count": 149,
   "metadata": {
    "scrolled": true
   },
   "outputs": [
    {
     "name": "stdout",
     "output_type": "stream",
     "text": [
      "9\n",
      "5\n",
      "36\n",
      "0.6\n",
      "0\n",
      "1\n",
      "32\n"
     ]
    }
   ],
   "source": [
    "# 加法\n",
    "print(5 + 4)\n",
    "# 减法\n",
    "print(9 - 4)\n",
    "# 乘法\n",
    "print(9 * 4)\n",
    "# 除法\n",
    "print(3 / 5)  # 结果为浮点数\n",
    "# 取整\n",
    "print(3 // 5)  # 结果为整数\n",
    "# 取余\n",
    "print(17 % 4)\n",
    "# 乘方\n",
    "print(2 ** 5)"
   ]
  },
  {
   "cell_type": "code",
   "execution_count": 150,
   "metadata": {},
   "outputs": [],
   "source": [
    "# 查看内置方法\n",
    "# dir(1)"
   ]
  },
  {
   "cell_type": "markdown",
   "metadata": {},
   "source": [
    "### 字符串(String) —— 不可变"
   ]
  },
  {
   "cell_type": "markdown",
   "metadata": {},
   "source": [
    "**运算**"
   ]
  },
  {
   "cell_type": "code",
   "execution_count": 151,
   "metadata": {},
   "outputs": [
    {
     "name": "stdout",
     "output_type": "stream",
     "text": [
      "I love python, I love you\n",
      "I love python, I love you\n",
      "I love you\n",
      "I love you\n",
      "I love you\n",
      "I love you\n",
      "I love you\n",
      "I love you\n",
      "I love you\n",
      "I love you\n",
      "I love you\n",
      "I love you\n",
      "\n"
     ]
    }
   ],
   "source": [
    "# 加法 （拼接）\n",
    "a = \"I love python\"\n",
    "b = \", I love you\"\n",
    "print(a + b)\n",
    "print(\"I love python\" + \", I love you\")\n",
    "\n",
    "# 乘法（复制）\n",
    "print(\"I love you\\n\" * 10)"
   ]
  },
  {
   "cell_type": "markdown",
   "metadata": {},
   "source": [
    "**访问与截取**"
   ]
  },
  {
   "cell_type": "code",
   "execution_count": 152,
   "metadata": {},
   "outputs": [
    {
     "name": "stdout",
     "output_type": "stream",
     "text": [
      "I\n",
      "I love yo\n",
      "love\n",
      "love you\n",
      " oeyu\n"
     ]
    }
   ],
   "source": [
    "a = \"I love you\"\n",
    "print(a[0])\n",
    "print(a[0:-1])\n",
    "print(a[2:6])\n",
    "print(a[2:])\n",
    "print(a[1::2])  # 最后一个参数是步长"
   ]
  },
  {
   "cell_type": "markdown",
   "metadata": {},
   "source": [
    "**遍历**"
   ]
  },
  {
   "cell_type": "code",
   "execution_count": 153,
   "metadata": {},
   "outputs": [
    {
     "name": "stdout",
     "output_type": "stream",
     "text": [
      "I\n",
      " \n",
      "l\n",
      "o\n",
      "v\n",
      "e\n",
      " \n",
      "y\n",
      "o\n",
      "u\n"
     ]
    }
   ],
   "source": [
    "for i in a:\n",
    "    print(i)"
   ]
  },
  {
   "cell_type": "markdown",
   "metadata": {},
   "source": [
    "**方法与函数** *参考资料：https://www.cnblogs.com/marklijian/p/11259680.html*"
   ]
  },
  {
   "cell_type": "code",
   "execution_count": 154,
   "metadata": {},
   "outputs": [
    {
     "name": "stdout",
     "output_type": "stream",
     "text": [
      "36\n",
      "\n",
      "\n",
      " I love you, I love python more \n",
      "I love you, I love python more **\n",
      "** I love you, I love python more\n",
      "\n",
      "\n",
      "['**', 'I', 'love', 'you,', 'I', 'love', 'python', 'more', '**']\n",
      "['**', 'I', 'love', 'you,', 'I', 'love', 'python', 'more', '**']\n",
      "\n",
      "\n",
      "['**', 'I', 'love', 'you,', 'I', 'love', 'python', 'more', '**']\n",
      "** I love you, I love python more **\n",
      "\n",
      "\n",
      "True\n",
      "False\n",
      "\n",
      "\n",
      "** I LOVE YOU, I LOVE PYTHON MORE **\n",
      "** i love you, i love python more **\n",
      "** I Love You, I Love Python More **\n",
      "\n",
      "\n",
      "True\n",
      "True\n",
      "\n",
      "\n",
      "-- I love you, I love python more --\n",
      "False\n",
      "True\n",
      "3\n"
     ]
    }
   ],
   "source": [
    "a = \"** I love you, I love python more **\"\n",
    "\n",
    "# 求字符串长度\n",
    "print(len(a))\n",
    "print(\"\\n\")\n",
    "\n",
    "# 移除\n",
    "print(a.strip(\"**\"))  # 两侧移除\n",
    "print(a.lstrip(\"** \"))  # 左侧移除\n",
    "print(a.rstrip(\" **\"))  # 右侧移除\n",
    "print(\"\\n\")\n",
    "\n",
    "# 切分\n",
    "print(a.split(\" \"))  # 切分出来时列表，可以用join()拼合成字符串\n",
    "# result = a.split(\" \")\n",
    "# \" \".join(result)\n",
    "print(a.rsplit(\" \"))  # rsplit() 从右切分，split()是从左切分\n",
    "print(\"\\n\")\n",
    "\n",
    "# join()拼接\n",
    "result = a.split(\" \")\n",
    "print(result)\n",
    "print(\" \".join(result))\n",
    "print(\"\\n\")\n",
    "\n",
    "# 成员运算 in 和 not in\n",
    "print(\" \" in a)\n",
    "print(\" \" not in a)\n",
    "print(\"\\n\")\n",
    "\n",
    "# 大小写转换\n",
    "print(a.upper())\n",
    "print(a.lower())\n",
    "print(a.title())\n",
    "print(\"\\n\")\n",
    "\n",
    "# startswith()和endswith()\n",
    "print(a.startswith(\"*\"))  # 判断以\"*\"开始\n",
    "print(a.endswith(\"*\"))  # 判断以\"*\"结尾\n",
    "print(\"\\n\")\n",
    "\n",
    "# 替换\n",
    "print(a.replace(\"*\", \"-\"))  # 用\"-\"替换\"*\"\n",
    "\n",
    "# isdigit() 判断字符串里是否全是数字\n",
    "b = \"1 a\"\n",
    "print(b.isdigit())\n",
    "c = \"1\"\n",
    "print(c.isdigit())\n",
    "\n",
    "# 查找索引\n",
    "print(a.index(\"I\"))"
   ]
  },
  {
   "cell_type": "code",
   "execution_count": 155,
   "metadata": {},
   "outputs": [],
   "source": [
    "# 查看内置方法\n",
    "# str = \"aaa\"\n",
    "# dir(str)"
   ]
  },
  {
   "cell_type": "markdown",
   "metadata": {},
   "source": [
    "### 列表(List) —— 可变"
   ]
  },
  {
   "cell_type": "markdown",
   "metadata": {},
   "source": [
    "**运算**"
   ]
  },
  {
   "cell_type": "code",
   "execution_count": 156,
   "metadata": {},
   "outputs": [
    {
     "name": "stdout",
     "output_type": "stream",
     "text": [
      "[1, 'a', [1, 2], 1.23, (1, 2, 3), {'a': 'A'}, 1, 1, 1]\n",
      "[1, 1, 1, 1, 1, 1]\n"
     ]
    }
   ],
   "source": [
    "list_1 = [1, \"a\", [1, 2], 1.23, (1, 2 ,3), {\"a\": \"A\"}]\n",
    "list_2 = [1 , 1, 1]\n",
    "\n",
    "# 加法（拼接）\n",
    "print(list_1 + list_2)\n",
    "\n",
    "# 乘法（复制）\n",
    "print(list_2 * 2)"
   ]
  },
  {
   "cell_type": "markdown",
   "metadata": {},
   "source": [
    "**访问与截取**"
   ]
  },
  {
   "cell_type": "code",
   "execution_count": 160,
   "metadata": {},
   "outputs": [
    {
     "name": "stdout",
     "output_type": "stream",
     "text": [
      "1\n",
      "[1, 'a']\n",
      "['a']\n",
      "[1.23, (1, 2, 3)]\n",
      "[1.23, (1, 2, 3), {'a': 'A'}]\n",
      "['a', 1.23]\n",
      "[{'a': 'A'}, (1, 2, 3), 1.23, [1, 2], 'a', 1]\n"
     ]
    }
   ],
   "source": [
    "print(list_1[0])\n",
    "print(list_1[:2])\n",
    "print(list_1[1:2])\n",
    "print(list_1[3:-1]) # 第4个元素到倒数第2个元素\n",
    "print(list_1[3:])\n",
    "print(list_1[1:5:2])  # 2是步长，表示隔一个元素取\n",
    "print(list_1[-1::-1])  # 逆向读取"
   ]
  },
  {
   "cell_type": "markdown",
   "metadata": {},
   "source": [
    "**替换列表元素**(列表元素是可变的)"
   ]
  },
  {
   "cell_type": "code",
   "execution_count": 161,
   "metadata": {},
   "outputs": [
    {
     "name": "stdout",
     "output_type": "stream",
     "text": [
      "[1, 'b', [1, 2], 1.23, (1, 2, 3), {'a': 'A'}]\n",
      "[[1, 2], 1.23, (1, 2, 3)]\n",
      "[1, 'b', '*', '*', {'a': 'A'}]\n",
      "['*', '*', {'a': 'A'}]\n",
      "[1, 'b', '-', '-', '-', '-']\n"
     ]
    }
   ],
   "source": [
    "list_1[1] = \"b\"\n",
    "print(list_1)\n",
    "\n",
    "print(list_1[2:5])\n",
    "list_1[2:5] = [\"*\", \"*\"]  # 如果对应的元素个数要多于新设置的个数，则多的那个自动被删除\n",
    "print(list_1)\n",
    "\n",
    "print(list_1[2:5])\n",
    "list_1[2:5] = [\"-\", \"-\", \"-\", \"-\"]  # 如果新设置的的个数多于对应的元素个数，则会按新设置元素的长度进行设置\n",
    "print(list_1)"
   ]
  },
  {
   "cell_type": "markdown",
   "metadata": {},
   "source": [
    "**函数与方法** *参考资料：https://www.cnblogs.com/marklijian/p/11260693.html*"
   ]
  },
  {
   "cell_type": "code",
   "execution_count": 162,
   "metadata": {},
   "outputs": [
    {
     "name": "stdout",
     "output_type": "stream",
     "text": [
      "4\n",
      "\n",
      "\n",
      "False\n",
      "True\n",
      "\n",
      "\n",
      "None\n",
      "[1, 2, 3, 4, {'key': 1}]\n",
      "\n",
      "\n",
      "None\n",
      "[1, 2, 3, 4, {'key': 1}, 1, 3, 0, 'key1', 'key2']\n",
      "\n",
      "\n",
      "key2\n",
      "4\n",
      "[1, 2, 3, {'key': 1}, 1, 3, 0, 'key1']\n",
      "\n",
      "\n",
      "[1, 2, {'key': 1}, 1, 3, 0, 'key1']\n",
      "\n",
      "\n",
      "[1, '2', 3, 4, 4, 4, 4]\n",
      "\n",
      "\n",
      "\n",
      "\n",
      "3\n",
      "\n",
      "\n",
      "None\n",
      "[4, 4, 4, 4, 3, '2', 1]\n",
      "\n",
      "\n",
      "[1, 2, 3, 3, 5]\n",
      "[5, 3, 3, 2, 1]\n",
      "\n",
      "\n",
      "[5, 3, '3', 3, 2, 1]\n",
      "\n",
      "\n",
      "1\n",
      "5\n",
      "15\n",
      "\n",
      "\n",
      "[]\n"
     ]
    }
   ],
   "source": [
    "list_3 = [1, 2, 3, 4]\n",
    "# 列表长度\n",
    "print(len(list_3))\n",
    "print(\"\\n\")\n",
    "\n",
    "# in 和 not in\n",
    "print(5 in list_3)\n",
    "print(5 not in list_3)\n",
    "print(\"\\n\")\n",
    "\n",
    "# 追加值\n",
    "## append()\n",
    "re_append = list_3.append({'key': 1})\n",
    "print(re_append)\n",
    "print(list_3)\n",
    "print(\"\\n\")\n",
    "\n",
    "## extend()\n",
    "'''\n",
    "list.extend(列表、元组、集合、字典)\n",
    "若为字典,则仅会将键(key)作为元素依次添加至原列表的末尾。\n",
    "没有返回值，直接进行修改\n",
    "'''\n",
    "re_extend = list_3.extend([1, 3, 0])\n",
    "re_extend = list_3.extend({'key1':1, 'key2': 2})\n",
    "print(re_append)\n",
    "print(list_3)\n",
    "print(\"\\n\")\n",
    "\n",
    "# 删除值\n",
    "## pop()\n",
    "re_pop1 = list_3.pop()  # pop(n),删除列表中索引为n的元素，不填则默认删除最后一个\n",
    "re_pop2 = list_3.pop(3)  # 删除索引为3的元素\n",
    "print(re_pop1)  # pop()是有返回值的，返回的是删除的那个元素\n",
    "print(re_pop2)\n",
    "print(list_3)\n",
    "print(\"\\n\")\n",
    "\n",
    "## del\n",
    "del list_3[2]  # del list_3[n], n表示拟删除元素的索引\n",
    "print(list_3)\n",
    "del list_3  # 删除整个list_#\n",
    "print(\"\\n\")\n",
    "\n",
    "## remove()\n",
    "list_3 = [1, \"2\", 2, 3, 4, 4, 4, 4]\n",
    "list_3.remove(2)  # 删除第一个匹配到的元素\n",
    "print(list_3)\n",
    "print(\"\\n\")\n",
    "\n",
    "# 计数\n",
    "list_3.count(4)\n",
    "print(\"\\n\")\n",
    "\n",
    "# 查找索引\n",
    "print(list_3.index(4))\n",
    "print(\"\\n\")\n",
    "\n",
    "# 反转\n",
    "re_list_3 = list_3.reverse()\n",
    "print(re_list_3)  # 不返回值，直接反转\n",
    "print(list_3)\n",
    "print(\"\\n\")\n",
    "\n",
    "# 排序\n",
    "list_4 = [1, 3, 2, 5, 3]  # 不支持数字，字母混合排序\n",
    "list_4.sort()\n",
    "print(list_4)\n",
    "list_4.sort(reverse=True)  # 倒序\n",
    "print(list_4)\n",
    "print(\"\\n\")\n",
    "\n",
    "# 插入\n",
    "list_4.insert(2, \"3\")  #insert(n. insert_item) 第一个参数是拟插入的位置索引，第二个参数是要插入的内容\n",
    "print(list_4)\n",
    "print(\"\\n\")\n",
    "\n",
    "# 最大值、最小值、求和\n",
    "num = [1, 2, 3, 4, 5]\n",
    "print(min(num))\n",
    "print(max(num))\n",
    "print(sum(num))\n",
    "print(\"\\n\")\n",
    "\n",
    "# 清除\n",
    "list_4.clear()\n",
    "print(list_4)"
   ]
  },
  {
   "cell_type": "code",
   "execution_count": 163,
   "metadata": {},
   "outputs": [],
   "source": [
    "# 查看内置方法\n",
    "# list_n = []\n",
    "# dir(list_n)"
   ]
  },
  {
   "cell_type": "markdown",
   "metadata": {},
   "source": [
    "**一些操作技巧**"
   ]
  },
  {
   "cell_type": "markdown",
   "metadata": {},
   "source": [
    "*遍历*"
   ]
  },
  {
   "cell_type": "code",
   "execution_count": 164,
   "metadata": {},
   "outputs": [
    {
     "name": "stdout",
     "output_type": "stream",
     "text": [
      "Hello, I am Jack\n",
      "Hello, I am David\n",
      "Hello, I am Tom\n",
      "Hello, I am Alice\n"
     ]
    }
   ],
   "source": [
    "list_5 = [\"jack\", \"david\", \"tom\", \"alice\"]\n",
    "for name in list_5:\n",
    "    print(\"Hello, I am {}\".format(name.title()))"
   ]
  },
  {
   "cell_type": "markdown",
   "metadata": {},
   "source": [
    "*创建列表*"
   ]
  },
  {
   "cell_type": "code",
   "execution_count": 165,
   "metadata": {},
   "outputs": [
    {
     "name": "stdout",
     "output_type": "stream",
     "text": [
      "1\n",
      "2\n",
      "3\n",
      "4\n",
      "5\n",
      "6\n",
      "7\n",
      "8\n",
      "9\n",
      "10\n",
      "\n",
      "\n",
      "1\n",
      "3\n",
      "5\n",
      "7\n",
      "9\n",
      "\n",
      "\n",
      "[1, 3, 5, 7, 9]\n",
      "\n",
      "\n",
      "[1, 9, 25, 49, 81]\n",
      "[1, 9, 25, 49, 81]\n"
     ]
    }
   ],
   "source": [
    "# range(start, end, step)  start为开始的数字，end为实际输出的下一个数字，step为步长\n",
    "for i in range(1,11):\n",
    "    print(i)\n",
    "\n",
    "print(\"\\n\")\n",
    "\n",
    "for i in range(1,11,2):\n",
    "    print(i)\n",
    "    \n",
    "print(\"\\n\")\n",
    "    \n",
    "# 创建数字列表\n",
    "numbers = list(range(1,11,2))\n",
    "print(numbers)\n",
    "\n",
    "print(\"\\n\")\n",
    "\n",
    "squares = []\n",
    "for i in range(1,10,2):\n",
    "    squares.append(i**2)\n",
    "print(squares)\n",
    "\n",
    "# 列表生成式\n",
    "square = [i**2 for i in range(1,10,2)]\n",
    "print(square)"
   ]
  },
  {
   "cell_type": "markdown",
   "metadata": {},
   "source": [
    "*复制列表*"
   ]
  },
  {
   "cell_type": "code",
   "execution_count": 166,
   "metadata": {},
   "outputs": [
    {
     "name": "stdout",
     "output_type": "stream",
     "text": [
      "['tom', 'alice', 'jack', 'gordon']\n",
      "['tom', 'alice', 'jack', 'gordon']\n",
      "\n",
      "\n",
      "['tom', 'alice', 'jack']\n",
      "['tom', 'alice', 'jack', 'gordon']\n"
     ]
    }
   ],
   "source": [
    "list_1 = [\"tom\", \"alice\", \"jack\"]\n",
    "list_2 = list_1\n",
    "list_2.append(\"gordon\")\n",
    "print(list_1)\n",
    "print(list_2)\n",
    "\n",
    "print(\"\\n\")\n",
    "\n",
    "list_1 = [\"tom\", \"alice\", \"jack\"]\n",
    "list_2 = list_1[:]  # 这样才是复制，直接赋值的话，变量指向是没有变的\n",
    "list_2.append(\"gordon\")\n",
    "print(list_1)\n",
    "print(list_2)"
   ]
  },
  {
   "cell_type": "markdown",
   "metadata": {},
   "source": [
    "### 元组(Tuple)——不可变"
   ]
  },
  {
   "cell_type": "markdown",
   "metadata": {},
   "source": [
    "**运算**"
   ]
  },
  {
   "cell_type": "code",
   "execution_count": 167,
   "metadata": {},
   "outputs": [
    {
     "name": "stdout",
     "output_type": "stream",
     "text": [
      "(1, 2, 3, 'jack', {'key': 1}, 4, 5, 6)\n",
      "(4, 5, 6, 4, 5, 6)\n"
     ]
    }
   ],
   "source": [
    "tup_1 = (1, 2, 3, \"jack\", {\"key\": 1})\n",
    "tup_2 = (4, 5, 6)\n",
    "\n",
    "# 加法（拼合）\n",
    "print(tup_1 + tup_2)\n",
    "\n",
    "# 乘法（复制）\n",
    "print(tup_2 * 2)"
   ]
  },
  {
   "cell_type": "markdown",
   "metadata": {},
   "source": [
    "**访问与截取**"
   ]
  },
  {
   "cell_type": "code",
   "execution_count": 168,
   "metadata": {},
   "outputs": [
    {
     "name": "stdout",
     "output_type": "stream",
     "text": [
      "(1, 2, 3, 'jack', {'key': 1})\n",
      "(1, 2)\n",
      "(2, 3, 'jack')\n",
      "({'key': 1}, 'jack', 3, 2, 1)\n"
     ]
    }
   ],
   "source": [
    "print(tup_1[:])\n",
    "print(tup_1[:2])\n",
    "print(tup_1[1:-1])\n",
    "print(tup_1[-1::-1])"
   ]
  },
  {
   "cell_type": "markdown",
   "metadata": {},
   "source": [
    "**元组是不能修改的**"
   ]
  },
  {
   "cell_type": "code",
   "execution_count": 169,
   "metadata": {},
   "outputs": [
    {
     "ename": "TypeError",
     "evalue": "'tuple' object does not support item assignment",
     "output_type": "error",
     "traceback": [
      "\u001b[1;31m---------------------------------------------------------------------------\u001b[0m",
      "\u001b[1;31mTypeError\u001b[0m                                 Traceback (most recent call last)",
      "\u001b[1;32m<ipython-input-169-03f3bd136398>\u001b[0m in \u001b[0;36m<module>\u001b[1;34m\u001b[0m\n\u001b[1;32m----> 1\u001b[1;33m \u001b[0mtup_1\u001b[0m\u001b[1;33m[\u001b[0m\u001b[1;36m1\u001b[0m\u001b[1;33m]\u001b[0m \u001b[1;33m=\u001b[0m \u001b[1;34m\"88\"\u001b[0m\u001b[1;33m\u001b[0m\u001b[1;33m\u001b[0m\u001b[0m\n\u001b[0m",
      "\u001b[1;31mTypeError\u001b[0m: 'tuple' object does not support item assignment"
     ]
    }
   ],
   "source": [
    "tup_1[1] = \"88\""
   ]
  },
  {
   "cell_type": "markdown",
   "metadata": {},
   "source": [
    "**方法与函数**"
   ]
  },
  {
   "cell_type": "code",
   "execution_count": 170,
   "metadata": {},
   "outputs": [],
   "source": [
    "# 查看内置方法\n",
    "# dir(tup_1)"
   ]
  },
  {
   "cell_type": "markdown",
   "metadata": {},
   "source": [
    "### 字典(Dictionary)\n",
    "* 字典是一系列 键：值 对\n",
    "* 字典是无序的\n",
    "* key不能重复，要唯一"
   ]
  },
  {
   "cell_type": "markdown",
   "metadata": {},
   "source": [
    "**运算**（字典是不能进行+、* 的）"
   ]
  },
  {
   "cell_type": "code",
   "execution_count": 171,
   "metadata": {},
   "outputs": [],
   "source": [
    "dic_1 = {\"k1\": 1, \"k2\": 2, \"k3\": 3}\n",
    "dic_2 = {\"k4\": 4, \"k5\": 5}\n",
    "# print(dic_1 + dic_2)\n",
    "# print(dic_1 * 2)"
   ]
  },
  {
   "cell_type": "markdown",
   "metadata": {},
   "source": [
    "**访问与截取**"
   ]
  },
  {
   "cell_type": "code",
   "execution_count": 172,
   "metadata": {},
   "outputs": [
    {
     "name": "stdout",
     "output_type": "stream",
     "text": [
      "2\n"
     ]
    }
   ],
   "source": [
    "print(dic_1[\"k2\"])"
   ]
  },
  {
   "cell_type": "markdown",
   "metadata": {},
   "source": [
    "**基本操作**"
   ]
  },
  {
   "cell_type": "code",
   "execution_count": 173,
   "metadata": {},
   "outputs": [
    {
     "name": "stdout",
     "output_type": "stream",
     "text": [
      "{'k1': 1, 'k2': 2, 'k3': 3}\n",
      "{'k1': 1, 'k2': 2, 'k3': 33}\n",
      "{'k1': 1, 'k2': 2}\n"
     ]
    }
   ],
   "source": [
    "dic_2 = {}\n",
    "# 添加\n",
    "dic_2[\"k1\"] = 1\n",
    "dic_2[\"k2\"] = 2\n",
    "dic_2[\"k3\"] = 3\n",
    "print(dic_2)\n",
    "\n",
    "# 修改\n",
    "dic_2[\"k3\"] = 33\n",
    "print(dic_2)\n",
    "\n",
    "# 删除\n",
    "del dic_2[\"k3\"]\n",
    "print(dic_2)"
   ]
  },
  {
   "cell_type": "markdown",
   "metadata": {},
   "source": [
    "**遍历**"
   ]
  },
  {
   "cell_type": "code",
   "execution_count": 174,
   "metadata": {},
   "outputs": [
    {
     "name": "stdout",
     "output_type": "stream",
     "text": [
      "k1 1\n",
      "k2 2\n",
      "k3 3\n",
      "\n",
      "\n",
      "k1\n",
      "k2\n",
      "k3\n",
      "\n",
      "\n",
      "k1\n",
      "k2\n",
      "k3\n",
      "\n",
      "\n",
      "1\n",
      "2\n",
      "3\n",
      "\n",
      "\n",
      "1\n",
      "2\n",
      "3\n"
     ]
    }
   ],
   "source": [
    "# items() 遍历键值对\n",
    "dic_3 = {\"k1\": 1, \"k2\": 2, \"k3\": 3}\n",
    "for k, v in dic_3.items():\n",
    "    print(k, v)\n",
    "\n",
    "print(\"\\n\")\n",
    "    \n",
    "# keys() 遍历键\n",
    "for k in dic_3.keys():\n",
    "    print(k)\n",
    "\n",
    "print(\"\\n\")\n",
    "    \n",
    "# sorted() 按顺序遍历键\n",
    "for k in sorted(dic_3.keys()):\n",
    "    print(k)\n",
    "    \n",
    "print(\"\\n\")\n",
    "    \n",
    "# values() 遍历值\n",
    "for v in dic_3.values():\n",
    "    print(v)\n",
    "    \n",
    "print(\"\\n\")\n",
    "\n",
    "# sorted() 按顺序遍历值\n",
    "for v in sorted(dic_3.values()):\n",
    "    print(v)"
   ]
  },
  {
   "cell_type": "markdown",
   "metadata": {},
   "source": [
    "**嵌套**"
   ]
  },
  {
   "cell_type": "code",
   "execution_count": 175,
   "metadata": {},
   "outputs": [
    {
     "name": "stdout",
     "output_type": "stream",
     "text": [
      "4\n",
      "2\n",
      "1\n"
     ]
    }
   ],
   "source": [
    "# 在列表中储存字典\n",
    "list_1 = [{\"k1\": 1, \"k2\": 2, \"k3\": 3}, \n",
    "          {\"k4\": 4, \"k5\": 5, \"k6\": 6}, \n",
    "          {\"k7\": 7, \"k8\": 8, \"k9\": 9}]\n",
    "\n",
    "print(list_1[1][\"k4\"])\n",
    "\n",
    "# 在字典中储存列表\n",
    "dic_1 = {\"list_1\": [1, 2, 3], \n",
    "        \"list_2\": [4, 5, 6], \n",
    "        \"list_3\": [7, 8, 9]}\n",
    "\n",
    "print(dic_1[\"list_1\"][1])\n",
    "\n",
    "# 字典中储存字典\n",
    "dic_2 = {\"dic_11\": {\"k1\": 1}, \n",
    "        \"dic_22\": {\"k2\": 2}}\n",
    "print(dic_2[\"dic_11\"][\"k1\"])"
   ]
  },
  {
   "cell_type": "code",
   "execution_count": 176,
   "metadata": {},
   "outputs": [],
   "source": [
    "# 查看内置方法\n",
    "# dir({})"
   ]
  },
  {
   "cell_type": "markdown",
   "metadata": {},
   "source": [
    "### 集合(Set)\n",
    "* 集合（set）是一个无序的不重复元素序列。"
   ]
  },
  {
   "cell_type": "code",
   "execution_count": 177,
   "metadata": {},
   "outputs": [
    {
     "name": "stdout",
     "output_type": "stream",
     "text": [
      "set()\n",
      "{1, 2, 3, 'b', 4, 'c', 'a'}\n",
      "{1, 2, 3, 'b', 'c', 'a'}\n",
      "{1}\n",
      "{1, 2, 4}\n",
      "{2}\n",
      "{1, 4}\n"
     ]
    }
   ],
   "source": [
    "set_1 = {1, 2, 3, \"a\", \"b\", \"c\"}\n",
    "type(set_1)\n",
    "\n",
    "# 创建空集合\n",
    "set_1 = set()\n",
    "print(set_1)\n",
    "\n",
    "set_1 = {1, 2, 3, \"a\", \"b\", \"c\"}\n",
    "\n",
    "# 添加元素\n",
    "set_1.add(4)\n",
    "print(set_1)\n",
    "\n",
    "# 移除元素\n",
    "set_1.remove(4)\n",
    "print(set_1)\n",
    "\n",
    "# 加法\n",
    "set_1 = {1, 2}\n",
    "set_2 = {2, 4}\n",
    "print(set_1 - set_2)  # 集合set_1中包含而集合set_2中不包含的元素\n",
    "print(set_1 | set_2)  # 集合set_1或set_2中包含的所有元素\n",
    "print(set_1 & set_2)  # 集合set_1和set_2中都包含了的元素\n",
    "print(set_1 ^ set_2)  # 不同时包含于set_1和set_2的元素"
   ]
  },
  {
   "cell_type": "markdown",
   "metadata": {},
   "source": [
    "## 二、条件语句"
   ]
  },
  {
   "cell_type": "markdown",
   "metadata": {},
   "source": [
    "**图示**\n",
    "<img src=\".\\if-condition.jpg\" width=\"379\" height=\"406\">"
   ]
  },
  {
   "cell_type": "markdown",
   "metadata": {},
   "source": [
    "**一般形式**\n",
    "```python\n",
    "if condition_1:\n",
    "    statement_block_1\n",
    "elif condition_2:\n",
    "    statement_block_2\n",
    "else:\n",
    "    statement_block_3\n",
    "```\n",
    "\n",
    "* 如果 \"condition_1\" 为 True 将执行 \"statement_block_1\" 块语句\n",
    "* 如果 \"condition_1\" 为False，将判断 \"condition_2\"\n",
    "* 如果\"condition_2\" 为 True 将执行 \"statement_block_2\" 块语句\n",
    "* 如果 \"condition_2\" 为False，将执行\"statement_block_3\"块语句"
   ]
  },
  {
   "cell_type": "markdown",
   "metadata": {},
   "source": [
    "**代码致性过程**\n",
    "<img src=\".\\python-if.webp\" width=\"500\" height=\"250\" />"
   ]
  },
  {
   "cell_type": "markdown",
   "metadata": {},
   "source": [
    "**gif演示**\n",
    "<img src=\"if.gif\" width=\"379\" height=\"406\">"
   ]
  },
  {
   "cell_type": "markdown",
   "metadata": {},
   "source": [
    "**操作运算符**\n",
    "* <  小于\n",
    "* <=  小于或等于\n",
    "* \\>  大于\n",
    "* \\>=  大于或等于\n",
    "* ==  等于，比较两个值是否相等\n",
    "* !=  不等于"
   ]
  },
  {
   "cell_type": "markdown",
   "metadata": {},
   "source": [
    "**嵌套**\n",
    "```python\n",
    "if 表达式1:\n",
    "    语句\n",
    "    if 表达式2:\n",
    "        语句\n",
    "    elif 表达式3:\n",
    "        语句\n",
    "    else:\n",
    "        语句\n",
    "elif 表达式4:\n",
    "    语句\n",
    "else:\n",
    "    语句\n",
    "```"
   ]
  },
  {
   "cell_type": "markdown",
   "metadata": {},
   "source": [
    "**实例1**"
   ]
  },
  {
   "cell_type": "code",
   "execution_count": 180,
   "metadata": {},
   "outputs": [
    {
     "name": "stdout",
     "output_type": "stream",
     "text": [
      "Game: guess number!\n",
      "please enter your number:12\n",
      "Your number is larger\n",
      "please enter your number:7\n",
      "Congratulations! You are right!\n"
     ]
    }
   ],
   "source": [
    "# 非嵌套\n",
    "number = 7 \n",
    "guess = -1\n",
    "print(\"Game: guess number!\")\n",
    "while guess != number:\n",
    "    guess = int(input(\"please enter your number:\"))\n",
    "    \n",
    "    if guess == number:\n",
    "        print(\"Congratulations! You are right!\")\n",
    "    elif guess < number:\n",
    "        print(\"Your number is smaller\")\n",
    "    elif guess > number:\n",
    "        print(\"Your number is larger\")\n",
    "            "
   ]
  },
  {
   "cell_type": "markdown",
   "metadata": {},
   "source": [
    "**实例2**"
   ]
  },
  {
   "cell_type": "code",
   "execution_count": 181,
   "metadata": {},
   "outputs": [
    {
     "name": "stdout",
     "output_type": "stream",
     "text": [
      "请输入一个数字：3\n",
      "你输入的数字可以被3整除，但不能被2整除\n"
     ]
    }
   ],
   "source": [
    "# 嵌套\n",
    "num = int(input(\"请输入一个数字：\"))\n",
    "if num % 2 == 0:\n",
    "    if num % 3 == 0:\n",
    "        print(\"你输入的数字可以被2和3整除\")\n",
    "    else:\n",
    "        print(\"你的数字能被2整除，但不能被3整除\")\n",
    "else:\n",
    "    if num % 3 == 0:\n",
    "        print(\"你输入的数字可以被3整除，但不能被2整除\")\n",
    "    else:\n",
    "        print(\"你输入的数字不能被2和3整除\")"
   ]
  },
  {
   "cell_type": "markdown",
   "metadata": {},
   "source": [
    "## 三、循环语句"
   ]
  },
  {
   "cell_type": "markdown",
   "metadata": {},
   "source": [
    "### （一）While语句"
   ]
  },
  {
   "cell_type": "markdown",
   "metadata": {},
   "source": [
    "**图示**\n",
    "<img src=\"while.jpg\" width=\"406\" height=\"453\">"
   ]
  },
  {
   "cell_type": "markdown",
   "metadata": {},
   "source": [
    "**一般形式**\n",
    "```python\n",
    "while 判断条件(condition)：\n",
    "    执行语句(statements)……\n",
    " ```"
   ]
  },
  {
   "cell_type": "markdown",
   "metadata": {},
   "source": [
    "**gif演示**\n",
    "<img src=\"while.gif\" width=\"450\" height=\"300\">"
   ]
  },
  {
   "cell_type": "markdown",
   "metadata": {},
   "source": [
    "**实例**"
   ]
  },
  {
   "cell_type": "code",
   "execution_count": 182,
   "metadata": {},
   "outputs": [
    {
     "name": "stdout",
     "output_type": "stream",
     "text": [
      "5050\n"
     ]
    }
   ],
   "source": [
    "# 计算1到100的累加和\n",
    "i = 0\n",
    "total = 0\n",
    "while i <= 100:\n",
    "    total = total + i\n",
    "    i += 1\n",
    "print(total)"
   ]
  },
  {
   "cell_type": "markdown",
   "metadata": {},
   "source": [
    "**while 循环使用 else 语句**\n",
    "```python\n",
    "while <expr>:\n",
    "    <statement(s)>\n",
    "else:\n",
    "    <additional_statement(s)>\n",
    "```"
   ]
  },
  {
   "cell_type": "code",
   "execution_count": 183,
   "metadata": {},
   "outputs": [
    {
     "name": "stdout",
     "output_type": "stream",
     "text": [
      "0 小于5\n",
      "1 小于5\n",
      "2 小于5\n",
      "3 小于5\n",
      "4 小于5\n",
      "5 大于或等于5\n"
     ]
    },
    {
     "data": {
      "text/plain": [
       "'\\ni = 0\\nwhile i < 5:\\n    print(i, \"小于5\")\\n    i += 1\\nprint(i, \"大于或等于5\")\\n'"
      ]
     },
     "execution_count": 183,
     "metadata": {},
     "output_type": "execute_result"
    }
   ],
   "source": [
    "i = 0\n",
    "while i < 5:\n",
    "    print(i, \"小于5\")\n",
    "    i += 1\n",
    "else:\n",
    "    print(i, \"大于或等于5\")\n",
    "\n",
    " \n",
    "'''\n",
    "i = 0\n",
    "while i < 5:\n",
    "    print(i, \"小于5\")\n",
    "    i += 1\n",
    "print(i, \"大于或等于5\")\n",
    "'''"
   ]
  },
  {
   "cell_type": "markdown",
   "metadata": {},
   "source": [
    "**无限循环**"
   ]
  },
  {
   "cell_type": "code",
   "execution_count": null,
   "metadata": {},
   "outputs": [],
   "source": [
    "a = 1\n",
    "while 1:\n",
    "    input(\"请输入数字：\")"
   ]
  },
  {
   "cell_type": "markdown",
   "metadata": {},
   "source": [
    "### （二）for语句"
   ]
  },
  {
   "cell_type": "markdown",
   "metadata": {},
   "source": [
    "**图示**\n",
    "<img src=\"for.jpg\" width=\"380\" height=\"448\">"
   ]
  },
  {
   "cell_type": "markdown",
   "metadata": {},
   "source": [
    "**一般形式**\n",
    "```python\n",
    "for <variable> in <sequence>:\n",
    "    <statements>\n",
    "else:\n",
    "    <statements>\n",
    "```"
   ]
  },
  {
   "cell_type": "markdown",
   "metadata": {},
   "source": [
    "**实例**"
   ]
  },
  {
   "cell_type": "code",
   "execution_count": 1,
   "metadata": {},
   "outputs": [
    {
     "name": "stdout",
     "output_type": "stream",
     "text": [
      "2\n",
      "4\n",
      "6\n",
      "8\n",
      "I am Tom\n",
      "I am Jack\n",
      "I am Alice\n",
      "I am Gordon\n",
      "I am 1 Jack\n",
      "I am 2 Alice\n",
      "I am 3 Gordon\n"
     ]
    }
   ],
   "source": [
    "# 1\n",
    "for i in range(2,10,2):\n",
    "    print(i)\n",
    "    \n",
    "# 2\n",
    "list = [\"tom\", \"jack\", \"alice\", \"gordon\"]\n",
    "for name in list:\n",
    "    print(\"I am {}\".format(name.title()))\n",
    "    \n",
    "# 3\n",
    "list = [\"tom\", \"jack\", \"alice\", \"gordon\"]\n",
    "for i in range(1, len(list)):\n",
    "    print(\"I am {} {}\".format(i, list[i].title()))"
   ]
  },
  {
   "cell_type": "markdown",
   "metadata": {},
   "source": [
    "### （三）break 与 continue"
   ]
  },
  {
   "cell_type": "markdown",
   "metadata": {},
   "source": [
    "#### break\n",
    "* break语句可以跳出 for 和 while 的循环体。如果你从 for 或 while 循环中终止，任何对应的循环 else 块将不执行。"
   ]
  },
  {
   "cell_type": "markdown",
   "metadata": {},
   "source": [
    "**图示**\n",
    "<img src=\"break.jpg\" width=\"400\" height=\"400\">"
   ]
  },
  {
   "cell_type": "markdown",
   "metadata": {},
   "source": [
    "**实例**"
   ]
  },
  {
   "cell_type": "code",
   "execution_count": 2,
   "metadata": {},
   "outputs": [
    {
     "name": "stdout",
     "output_type": "stream",
     "text": [
      "当前字母为a\n",
      "当前字母为b\n",
      "当前字母为c\n",
      "当前字母为d\n",
      "1\n",
      "2\n",
      "3\n",
      "4\n",
      "5\n",
      "6\n",
      "7\n"
     ]
    }
   ],
   "source": [
    "# 1\n",
    "for letter in \"abcdefg\":\n",
    "    if letter == \"e\":\n",
    "        break\n",
    "    print(\"当前字母为{}\".format(letter))\n",
    "\n",
    "# 2\n",
    "i = 0\n",
    "while i < 10:\n",
    "    i += 1\n",
    "    if i == 8:\n",
    "        break\n",
    "    print(i)"
   ]
  },
  {
   "cell_type": "markdown",
   "metadata": {},
   "source": [
    "#### continue\n",
    "* 语句被用来告诉 Python 跳过当前循环块中的剩余语句，然后继续进行下一轮循环，而不是跳出整个循环。"
   ]
  },
  {
   "cell_type": "markdown",
   "metadata": {},
   "source": [
    "**图示**\n",
    "<img src=\"continue.jpg\">"
   ]
  },
  {
   "cell_type": "markdown",
   "metadata": {},
   "source": [
    "**实例**"
   ]
  },
  {
   "cell_type": "code",
   "execution_count": 3,
   "metadata": {},
   "outputs": [
    {
     "name": "stdout",
     "output_type": "stream",
     "text": [
      "当前字母为a\n",
      "当前字母为b\n",
      "当前字母为c\n",
      "当前字母为d\n",
      "当前字母为f\n",
      "当前字母为g\n",
      "-----\n",
      "1\n",
      "-----\n",
      "2\n",
      "-----\n",
      "3\n",
      "-----\n",
      "4\n",
      "-----\n",
      "5\n",
      "-----\n",
      "6\n",
      "-----\n",
      "7\n",
      "-----\n",
      "9\n",
      "-----\n",
      "10\n"
     ]
    }
   ],
   "source": [
    "# 1\n",
    "for letter in \"abcdefg\":\n",
    "    if letter == \"e\":\n",
    "        continue\n",
    "    print(\"当前字母为{}\".format(letter))\n",
    "\n",
    "# 2\n",
    "i = 0\n",
    "while i < 10:\n",
    "    i += 1\n",
    "    if i == 8:\n",
    "        continue\n",
    "    print(\"-\"*5)\n",
    "    print(i)"
   ]
  },
  {
   "cell_type": "markdown",
   "metadata": {},
   "source": [
    "#### break与continue的区别\n",
    "* break是跳出整个循环，直接退出循环；continue是提前结束当前循环进入下一次循环"
   ]
  },
  {
   "cell_type": "markdown",
   "metadata": {},
   "source": [
    "**图示**\n",
    "<img src=\"break&continue.webp\" width=\"400\" height=\"300\">"
   ]
  },
  {
   "cell_type": "markdown",
   "metadata": {},
   "source": [
    "**实例**"
   ]
  },
  {
   "cell_type": "code",
   "execution_count": 4,
   "metadata": {},
   "outputs": [
    {
     "name": "stdout",
     "output_type": "stream",
     "text": [
      "-----\n",
      "1\n",
      "-----\n",
      "2\n",
      "-----\n",
      "3\n",
      "-----\n",
      "4\n",
      "-----\n",
      "5\n",
      "-----\n",
      "6\n",
      "-----\n",
      "7\n",
      "**********\n",
      "-----\n",
      "1\n",
      "-----\n",
      "2\n",
      "-----\n",
      "3\n",
      "-----\n",
      "4\n",
      "-----\n",
      "5\n",
      "-----\n",
      "6\n",
      "-----\n",
      "7\n",
      "-----\n",
      "9\n",
      "-----\n",
      "10\n"
     ]
    }
   ],
   "source": [
    "# break\n",
    "i = 0\n",
    "while i < 10:\n",
    "    i += 1\n",
    "    if i == 8:\n",
    "        break\n",
    "    print(\"-\"*5)\n",
    "    print(i)\n",
    "\n",
    "print(\"*\"*10)\n",
    "\n",
    "# continue\n",
    "i = 0\n",
    "while i < 10:\n",
    "    i += 1\n",
    "    if i == 8:\n",
    "        continue\n",
    "    print(\"-\"*5)\n",
    "    print(i)"
   ]
  },
  {
   "cell_type": "markdown",
   "metadata": {},
   "source": [
    "## 四、函数"
   ]
  },
  {
   "cell_type": "markdown",
   "metadata": {},
   "source": [
    "### （一）基本语法\n",
    "```python\n",
    "def 函数名（参数列表）:\n",
    "    函数体\n",
    "```\n",
    "* 函数代码块以 def 关键词开头，后接函数标识符名称和圆括号 ()；\n",
    "* 任何传入参数和自变量必须放在圆括号中间，圆括号之间可以用于定义参数；\n",
    "* 函数的第一行语句可以选择性地使用文档字符串—用于存放函数说明；\n",
    "* 函数内容以冒号起始，并且缩进；\n",
    "* **return [表达式]** 结束函数，选择性地返回一个值给调用方。不带表达式的return相当于返回 None。\n"
   ]
  },
  {
   "cell_type": "code",
   "execution_count": 5,
   "metadata": {},
   "outputs": [
    {
     "data": {
      "text/plain": [
       "6"
      ]
     },
     "execution_count": 5,
     "metadata": {},
     "output_type": "execute_result"
    }
   ],
   "source": [
    "# 简单例子\n",
    "def area(x, y):\n",
    "     return x * y\n",
    "\n",
    "area(2, 3)  # 调用函数"
   ]
  },
  {
   "cell_type": "code",
   "execution_count": 6,
   "metadata": {},
   "outputs": [],
   "source": [
    "# 与上面对比，理解return\n",
    "def area(x, y):\n",
    "    x * y\n",
    "\n",
    "area(2, 3)  # 调用函数"
   ]
  },
  {
   "cell_type": "code",
   "execution_count": 7,
   "metadata": {},
   "outputs": [
    {
     "name": "stdout",
     "output_type": "stream",
     "text": [
      "函数内 :  30\n",
      "函数外 :  30\n"
     ]
    }
   ],
   "source": [
    "# 理解return\n",
    "def sum( arg1, arg2 ):\n",
    "   # 返回2个参数的和.\"\n",
    "   total = arg1 + arg2\n",
    "   print (\"函数内 : \", total)\n",
    "   return total\n",
    " \n",
    "# 调用sum函数\n",
    "total = sum( 10, 20 )\n",
    "print (\"函数外 : \", total)"
   ]
  },
  {
   "cell_type": "markdown",
   "metadata": {},
   "source": [
    "### （二）参数\n",
    "* 必需参数\n",
    "* 关键词参数\n",
    "* 默认参数\n",
    "* 不定长参数"
   ]
  },
  {
   "cell_type": "markdown",
   "metadata": {},
   "source": [
    "**必须参数**\n",
    "* 必需参数须以**正确的顺序**传入函数，调用时的数量必须和声明时的一样，不然会出现语法错误。"
   ]
  },
  {
   "cell_type": "code",
   "execution_count": 8,
   "metadata": {},
   "outputs": [
    {
     "ename": "TypeError",
     "evalue": "area() missing 1 required positional argument: 'y'",
     "output_type": "error",
     "traceback": [
      "\u001b[1;31m---------------------------------------------------------------------------\u001b[0m",
      "\u001b[1;31mTypeError\u001b[0m                                 Traceback (most recent call last)",
      "\u001b[1;32m<ipython-input-8-caf1c5358223>\u001b[0m in \u001b[0;36m<module>\u001b[1;34m\u001b[0m\n\u001b[0;32m      2\u001b[0m      \u001b[1;32mreturn\u001b[0m \u001b[0mx\u001b[0m \u001b[1;33m*\u001b[0m \u001b[0my\u001b[0m\u001b[1;33m\u001b[0m\u001b[1;33m\u001b[0m\u001b[0m\n\u001b[0;32m      3\u001b[0m \u001b[1;33m\u001b[0m\u001b[0m\n\u001b[1;32m----> 4\u001b[1;33m \u001b[0marea\u001b[0m\u001b[1;33m(\u001b[0m\u001b[1;36m2\u001b[0m\u001b[1;33m)\u001b[0m\u001b[1;33m\u001b[0m\u001b[1;33m\u001b[0m\u001b[0m\n\u001b[0m",
      "\u001b[1;31mTypeError\u001b[0m: area() missing 1 required positional argument: 'y'"
     ]
    }
   ],
   "source": [
    "def area(x, y):\n",
    "     return x * y\n",
    "\n",
    "area(2)"
   ]
  },
  {
   "cell_type": "markdown",
   "metadata": {},
   "source": [
    "**关键词参数**\n",
    "* 关键字参数和函数调用关系紧密，函数调用使用关键字参数来确定传入的参数值。使用关键字参数允许函数调用时参数的顺序与声明时不一致，因为 Python 解释器能够用参数名匹配参数值。"
   ]
  },
  {
   "cell_type": "code",
   "execution_count": 9,
   "metadata": {},
   "outputs": [
    {
     "name": "stdout",
     "output_type": "stream",
     "text": [
      "我是23，我今年Tom岁\n",
      "我是Tom，我今年23岁\n"
     ]
    }
   ],
   "source": [
    "def info(name, age):\n",
    "    print(\"我是{}，我今年{}岁\".format(name, age))\n",
    "\n",
    "info(23, \"Tom\")\n",
    "info(age=23, name=\"Tom\")"
   ]
  },
  {
   "cell_type": "markdown",
   "metadata": {},
   "source": [
    "**默认参数**\n",
    "* 调用函数时，如果没有传递参数，则会使用默认参数。"
   ]
  },
  {
   "cell_type": "code",
   "execution_count": 10,
   "metadata": {},
   "outputs": [
    {
     "data": {
      "text/plain": [
       "10"
      ]
     },
     "execution_count": 10,
     "metadata": {},
     "output_type": "execute_result"
    }
   ],
   "source": [
    "def area(x, y = 5):\n",
    "     return x * y\n",
    "\n",
    "area(2)  # y没有传入值，直接使用默认值"
   ]
  },
  {
   "cell_type": "markdown",
   "metadata": {},
   "source": [
    "**不定长参数**\n",
    "* 有时候需要一个函数能处理比当初声明时更多的参数，这些参数叫做不定长参数，和上述几种参数不同，声明时不会命名。基本语法如下：\n",
    "> (1) ***var_args_tuple**\n",
    "```python\n",
    "def functionname([formal_args,] *var_args_tuple ):\n",
    "   '''函数_文档字符串'''\n",
    "   function_suite\n",
    "   return [expression]\n",
    "```\n",
    "(2) ****var_args_dict**\n",
    "```python\n",
    "def functionname([formal_args,] **var_args_dict ):\n",
    "   '''函数_文档字符串'''\n",
    "   function_suite\n",
    "   return [expression]\n",
    "```"
   ]
  },
  {
   "cell_type": "markdown",
   "metadata": {},
   "source": [
    "*(1) *var_args_tuple*\n",
    "* 加了星号 * 的参数会以元组(tuple)的形式导入，存放所有未命名的变量参数。"
   ]
  },
  {
   "cell_type": "code",
   "execution_count": 11,
   "metadata": {},
   "outputs": [
    {
     "name": "stdout",
     "output_type": "stream",
     "text": [
      "输出:\n",
      "3\n",
      "(4, 5, 6)\n",
      "4\n",
      "5\n",
      "6\n",
      "输出:\n",
      "3\n",
      "()\n"
     ]
    }
   ],
   "source": [
    "def printinfo(arg1, *vartuple):\n",
    "    '''\n",
    "    打印任何传入的参数\n",
    "    '''\n",
    "    print(\"输出:\")\n",
    "    print(arg1)\n",
    "    print(vartuple)\n",
    "    \n",
    "    for i in vartuple:\n",
    "        print(i)\n",
    "\n",
    "printinfo(3, 4, 5, 6)\n",
    "printinfo(3)"
   ]
  },
  {
   "cell_type": "markdown",
   "metadata": {},
   "source": [
    "***var_args_dict*\n",
    "* 加了两个星号 ** 的参数会以字典的形式导入。"
   ]
  },
  {
   "cell_type": "code",
   "execution_count": 12,
   "metadata": {},
   "outputs": [
    {
     "name": "stdout",
     "output_type": "stream",
     "text": [
      "1\n",
      "{'a': 2, 'b': 3}\n"
     ]
    }
   ],
   "source": [
    "def printinfo(arg1, **vardict):\n",
    "    print(arg1)\n",
    "    print(vardict)\n",
    "\n",
    "printinfo(1, a=2, b=3)"
   ]
  },
  {
   "cell_type": "markdown",
   "metadata": {},
   "source": [
    "### （三）参数传递\n",
    "在 python 中，strings, tuples, 和 numbers 是不可更改的对象，而 list,dict 等则是可以修改的对象。\n",
    "> * **不可变类型(numbers、strings、tuples)：**变量赋值 a=5 后再赋值 a=10，这里实际是新生成一个 int 值对象 10，再让 a 指向它，而 5 被丢弃，不是改变a的值，相当于新生成了a；\n",
    "* **可变类型(list、dict)：**变量赋值 la=[1,2,3,4] 后再赋值 la[2]=5 则是将 list la 的第三个元素值更改，本身la没有动，只是其内部的一部分值被修改了。\n",
    "\n",
    "python 函数的参数传递：\n",
    "> * **不可变类型(numbers、strings、tuples)：**如fun(a)，传递的只是a的值，没有影响a对象本身。比如在 fun(a)内部修改 a 的值，只是修改另一个复制的对象，不会影响 a 本身；\n",
    "* **可变类型(list、dict)：**如 fun(la)，则是将 la 真正的传过去，修改后fun外部的la也会受影响。"
   ]
  },
  {
   "cell_type": "code",
   "execution_count": 13,
   "metadata": {},
   "outputs": [
    {
     "name": "stdout",
     "output_type": "stream",
     "text": [
      "2\n"
     ]
    }
   ],
   "source": [
    "# 传不可变对象实例\n",
    "def changeint( a ):\n",
    "    a = 10\n",
    "\n",
    "b = 2\n",
    "changeint(b)\n",
    "print( b ) "
   ]
  },
  {
   "cell_type": "code",
   "execution_count": 14,
   "metadata": {},
   "outputs": [
    {
     "name": "stdout",
     "output_type": "stream",
     "text": [
      "函数内取值:  [10, 20, 30, [1, 2, 3, 4]]\n",
      "函数外取值:  [10, 20, 30, [1, 2, 3, 4]]\n"
     ]
    }
   ],
   "source": [
    "# 传可变对象实例\n",
    "def changeme( mylist ):\n",
    "    '''修改传入的列表'''\n",
    "    mylist.append([1,2,3,4])\n",
    "    print (\"函数内取值: \", mylist)\n",
    "    return\n",
    " \n",
    "# 调用changeme函数\n",
    "mylist = [10,20,30]\n",
    "changeme( mylist )\n",
    "print (\"函数外取值: \", mylist)"
   ]
  },
  {
   "cell_type": "markdown",
   "metadata": {},
   "source": [
    "### （四）匿名函数\n",
    "* 所谓匿名函数，就是不需要显示地定义函数名，直接使用```lambda 参数: 表达式```  的形式。即：\n",
    "```python \n",
    "lambda [arg1 [,arg2, ... argN]] : expression\n",
    "```\n",
    "* 也就是说，lambda用来表示匿名函数，可以传入多个参数，但只能有一个表达式。\n"
   ]
  },
  {
   "cell_type": "code",
   "execution_count": 15,
   "metadata": {},
   "outputs": [
    {
     "name": "stdout",
     "output_type": "stream",
     "text": [
      "<function <lambda> at 0x000002904FED5840>\n"
     ]
    },
    {
     "data": {
      "text/plain": [
       "12"
      ]
     },
     "execution_count": 15,
     "metadata": {},
     "output_type": "execute_result"
    }
   ],
   "source": [
    "f = lambda x, y: x * y\n",
    "print(f)\n",
    "\n",
    "f(3, 4)"
   ]
  },
  {
   "cell_type": "markdown",
   "metadata": {},
   "source": [
    "### （五）装饰器\n",
    ">装饰器本质上是一个Python函数，它可以让其他函数在不需要做任何代码变动的前提下增加额外功能，装饰器的返回值也是一个函数对象。它经常用于有切面需求的场景，比如：插入日志、性能测试、事务处理、缓存、权限校验等场景。装饰器是解决这类问题的绝佳设计，有了装饰器，我们就可以抽离出大量与函数功能本身无关的雷同代码并继续重用。概括的讲，装饰器的作用就是为已经存在的对象添加额外的功能。\n",
    "\n",
    ">形象化的讲，可以把装饰函数理解为一个汽车美容院，我们要装饰的函数就是一辆一辆的车，我们把车送到汽车美容院里，然后里边的汽车美容师傅进行装饰，装饰完成后，然后再把装饰好了的车给送出来，这样我们就可以开新车了，但是车本身具有的原本功能是没有变的，只是增加了汽车美容院了给我们增加的一些新功能或者装饰。\n"
   ]
  },
  {
   "cell_type": "code",
   "execution_count": 16,
   "metadata": {},
   "outputs": [
    {
     "name": "stdout",
     "output_type": "stream",
     "text": [
      "给送来的car美容一下\n",
      "我是一辆等着被送去装饰的宝马车\n",
      "美容完了，把car送回去吧\n"
     ]
    }
   ],
   "source": [
    "# 不传参\n",
    "def car_beauty_factory(func):  # 车被送到汽车美容店来了\n",
    "    def car_beautician():  # 汽车美容师小张开始装饰car\n",
    "        print('给送来的car美容一下')\n",
    "        func()\n",
    "        print('美容完了，把car送回去吧')\n",
    "    return car_beautician  # 把车送回去\n",
    "\n",
    "@car_beauty_factory\n",
    "def car_bwm():\n",
    "    print('我是一辆等着被送去装饰的宝马车')\n",
    "    \n",
    "car_bwm()  # 开新车"
   ]
  },
  {
   "cell_type": "code",
   "execution_count": 17,
   "metadata": {},
   "outputs": [
    {
     "name": "stdout",
     "output_type": "stream",
     "text": [
      "这是一辆宝马车，我要多收点钱\n",
      "给送来的car美容一下\n",
      "我是一辆等着被送去装饰的宝马车\n",
      "美容完了，把car送回去吧\n"
     ]
    }
   ],
   "source": [
    "# 传参\n",
    "def car_beauty_factory(func):  # 车被送到汽车美容店来了\n",
    "    def car_beautician(model):  # 汽车美容师小张开始装饰car\n",
    "        print('这是一辆{}车，我要多收点钱'.format(model))  \n",
    "        print('给送来的car美容一下')\n",
    "        func(model)\n",
    "        print('美容完了，把car送回去吧')\n",
    "    return car_beautician  # 把车送回去\n",
    "\n",
    "@car_beauty_factory\n",
    "def car_bwm(model):\n",
    "    print('我是一辆等着被送去装饰的{}车'.format(model))\n",
    "    \n",
    "car_bwm('宝马')  # 开新车"
   ]
  },
  {
   "cell_type": "markdown",
   "metadata": {},
   "source": [
    "## 五、面向对象"
   ]
  },
  {
   "cell_type": "markdown",
   "metadata": {},
   "source": [
    "> * **面向对象编程**是最有效的软件编写方法之一。在面向对象编程中，\n",
    "你编写表示现实世界中的事物和情景的类，并基于这些类来创建对象。\n",
    "编写类时，你定义一大类对象都有的通用行为。基于类创建对象时，\n",
    "每个对象都自动具备这种通用行为，然后可根据需要赋予每个对象独\n",
    "特的个性；\n",
    "* 根据类来创建对象被称为**实例化**；\n",
    "* 我们可以将编写类看作一种**抽象化过程**，而实例化就是**具体化**的表现。"
   ]
  },
  {
   "cell_type": "markdown",
   "metadata": {},
   "source": [
    "### （一）基本概念\n",
    "* **类(class):**用来描述具有相同的属性和方法的对象的集合。它定义了该集合中每个对象所共有的属性和方法。对象是类的实例。\n",
    "* **属性（变量）：**定义在类中的变量，不仅可供类中所有方法使用，还能通过类的任何实例对象访问。\n",
    "> * ***类属性：***定义在类中且在**函数体外**的变量，对所有的实例对象是公用的，具有**全局同步**的特性。类属性通常不作为实例属性使用；\n",
    "> * ***实例属性：***定义在类中且在**函数体内**的变量，只对实例对象自身有效。也就是说，我们改变某个实例变量的属性，并不影响另一个实例对象的对应属性。实例属性就是一个用 ```self.``` 修饰的变量。\n",
    "* **私有属性：**```__private_attrs```：两个下划线开头，声明该属性为私有，不能在类的外部被使用或直接访问。在类内部的方法中使用时```self.__private_attrs```。\n",
    "* **方法：**类中定义的函数。方法也像属性一样，可以供类中其他方法使用，也可以通过类的任何实例对象进行访问。\n",
    "* **私有方法：**```__private_method```：两个下划线开头，声明该方法为私有方法，只能在类的内部调用 ，不能在类的外部调用。在类内部使用时```self.__private_methods```。\n",
    "* **实例化：**创建一个类的具体实例对象称为实例化。\n",
    "* **对象：**类的实例。\n",
    "* **继承：**一个类**继承**另一个类，原有的类称为**父类**，新类称为**子类**。子类继承了父类所有的属性和方法，同时子类还可以定义自己的属性和方法。"
   ]
  },
  {
   "cell_type": "code",
   "execution_count": 18,
   "metadata": {},
   "outputs": [
    {
     "name": "stdout",
     "output_type": "stream",
     "text": [
      "美国\n",
      "美国\n",
      "\n",
      "\n",
      "Tom\n",
      "Jack\n",
      "\n",
      "\n",
      "我是一只美国狗，我的名字叫Tom，我的颜色是yellow，我身高100厘米\n",
      "我是一只美国狗，我的名字叫Jack，我的颜色是white，我身高90厘米\n",
      "\n",
      "\n",
      "我是一只美国狗，我的名字叫Tom，我的颜色是yellow，我身高100厘米\n",
      "我要开始叫了奥，'汪汪汪！！！'\n",
      "我是一只美国狗，我的名字叫Jack，我的颜色是white，我身高90厘米\n",
      "我要开始叫了奥，'汪汪汪！！！'\n",
      "\n",
      "\n",
      "我是一只日本狗，我的名字叫Tom，我的颜色是yellow，我身高100厘米\n",
      "我是一只日本狗，我的名字叫Jack，我的颜色是white，我身高90厘米\n",
      "\n",
      "\n",
      "我是一只日本狗，我的名字叫Tom_chg，我的颜色是yellow，我身高100厘米\n",
      "我是一只日本狗，我的名字叫Jack_chg，我的颜色是white，我身高90厘米\n"
     ]
    }
   ],
   "source": [
    "# 举例理解\n",
    "class Dog(object):\n",
    "    \n",
    "    area = \"美国\"  # 类属性，公用，全局\n",
    "    \n",
    "    def __init__(self, name, color, height, weight):  # self代表的实例化对象，而不是类\n",
    "        self.name = name  # 实例属性，只作用于具体实例对象\n",
    "        self.color = color\n",
    "        self.height = height\n",
    "        self.__weight = weight\n",
    "        \n",
    "    def info(self):  # 定义一个info()方法\n",
    "         print(\"我是一只{}狗，我的名字叫{}，我的颜色是{}，我身高{}厘米\".format(self.area, self.name , self.color, self.height))\n",
    "    \n",
    "    def bark(self):\n",
    "        self.info()  # 调用内部方法\n",
    "        print(\"我要开始叫了奥，'汪汪汪！！！'\")\n",
    "    \n",
    "    def __private_methods(self):\n",
    "        print(\"我的体重是{}斤\".format(self.__weight))\n",
    "        \n",
    "if __name__ == \"__main__\":\n",
    "    # 实例化\n",
    "    dog_1 = Dog(\"Tom\", \"yellow\", 100, 50)  # 实例化dog_1\n",
    "    dog_2 = Dog(\"Jack\", \"white\", 90, 55)  # 实例化dog_2\n",
    "    # 调用类属性\n",
    "    print(dog_1.area)\n",
    "    print(dog_2.area)\n",
    "    print(\"\\n\")\n",
    "    \n",
    "    # 调用实例属性\n",
    "    print(dog_1.name)  \n",
    "    print(dog_2.name)  \n",
    "    print(\"\\n\")\n",
    "    \n",
    "    # 调用方法\n",
    "    dog_1.info()  \n",
    "    dog_2.info()  \n",
    "    print(\"\\n\")\n",
    "    \n",
    "    # 调用方法\n",
    "    dog_1.bark()\n",
    "    dog_2.bark()\n",
    "    print(\"\\n\")\n",
    "    \n",
    "    # 改变类属性，可实现全局同步\n",
    "    Dog.area = \"日本\"\n",
    "    dog_1.info()\n",
    "    dog_2.info()\n",
    "    print(\"\\n\")\n",
    "    \n",
    "    # 修改实例属性，只能作用于具体实例\n",
    "    Dog.name = \"Mimi\"  # 无法对实例变量进行修改\n",
    "    dog_1.name = \"Tom_chg\"\n",
    "    dog_2.name = \"Jack_chg\"\n",
    "    dog_1.info()  \n",
    "    dog_2.info()  \n",
    "    \n",
    "    # 尝试从类外部访问私有属性和私有方法\n",
    "#     dog_1.__weight  # 会报错：'Dog' object has no attribute '__weight'\n",
    "#     dog_1.__private_methods()  # 会报错： 'Dog' object has no attribute '__private_methods'"
   ]
  },
  {
   "cell_type": "markdown",
   "metadata": {},
   "source": [
    "### （二）继承"
   ]
  },
  {
   "cell_type": "markdown",
   "metadata": {},
   "source": [
    "#### 1、单继承\n",
    "* 子类继承父类，不仅继承了父类的所有方法和属性，而且可以对继承来的属性和方法进行重新定义**（重写）**，而且还可以在子类中定义新的属性和方法。"
   ]
  },
  {
   "cell_type": "code",
   "execution_count": 19,
   "metadata": {},
   "outputs": [
    {
     "name": "stdout",
     "output_type": "stream",
     "text": [
      "\n",
      "\n",
      "我是一只韩国狗，我的名字叫슬기，我的颜色是white，我身高80厘米\n",
      "我的工作是舔狗\n",
      "\n",
      "\n",
      "我是一只韩国狗，我的名字叫슬기，我的颜色是white，我身高80厘米\n",
      "我的工作是舔狗\n",
      "我要开始叫了奥，'汪汪汪！！！'\n",
      "\n",
      "\n",
      "我要开始工作了哟,'lick, lick, lick!!!'\n"
     ]
    }
   ],
   "source": [
    "# 定义父类\n",
    "class Dog(object):\n",
    "    \n",
    "    area = \"美国\"\n",
    "    \n",
    "    def __init__(self, name, color, height):  \n",
    "        self.name = name  \n",
    "        self.color = color\n",
    "        self.height = height\n",
    "        \n",
    "    def info(self):  \n",
    "         print(\"我是一只{}狗，我的名字叫{}，我的颜色是{}，我身高{}厘米\".format(self.area, self.name , self.color, self.height))\n",
    "    \n",
    "    def bark(self):\n",
    "        self.info()  \n",
    "        print(\"我要开始叫了奥，'汪汪汪！！！'\")\n",
    "\n",
    "        \n",
    "# 创建子类\n",
    "class KoreaDog(Dog):  # 继承Dog父类\n",
    "    \n",
    "    area = \"韩国\"  # 重写类属性，不重写的话就是\"美国\"\n",
    "    \n",
    "    def __init__(self, name, color, height, work):  \n",
    "        super().__init__(name, color, height)  # super()是为了将子类和父类关联起来，调用父类的方法__init__()，使子类包含父类的所有属性\n",
    "        # 定义新的属性\n",
    "        self.work = work  \n",
    "    \n",
    "    # 重写父类方法\n",
    "    def info(self):  \n",
    "        print(\"我是一只{}狗，我的名字叫{}，我的颜色是{}，我身高{}厘米\".format(self.area, self.name , self.color, self.height))\n",
    "        print(\"我的工作是{}\".format(self.work))\n",
    "    \n",
    "    # 定义新的方法\n",
    "    def start_work(self):\n",
    "        print(\"我要开始工作了哟,'lick, lick, lick!!!'\")\n",
    "        \n",
    "        \n",
    "if __name__ == \"__main__\":\n",
    "    Korea_dog_1 = KoreaDog(\"슬기\", \"white\", 80, \"舔狗\")\n",
    "    print(\"\\n\")\n",
    "    Korea_dog_1.info()\n",
    "    print(\"\\n\")\n",
    "    Korea_dog_1.bark()  # 在子类中虽然没有定义这个方法，但是也可以调用，因为父类有这个方法，子类完全继承过来了\n",
    "    print(\"\\n\")\n",
    "    Korea_dog_1.start_work()"
   ]
  },
  {
   "cell_type": "markdown",
   "metadata": {},
   "source": [
    "#### 2、多继承\n",
    "* 多继承就是子类继承多个父类。其他特性类似单继承。"
   ]
  },
  {
   "cell_type": "code",
   "execution_count": 20,
   "metadata": {},
   "outputs": [
    {
     "name": "stdout",
     "output_type": "stream",
     "text": [
      "我是狗,是一种会跑的动物\n",
      "我是一只韩国狗，我的名字叫슬기，我的颜色是white，我身高80厘米\n",
      "我是一只韩国狗，我的名字叫슬기，我的颜色是white，我身高80厘米\n",
      "我要开始叫了奥，'汪汪汪！！！'\n"
     ]
    }
   ],
   "source": [
    "# 定义父类1\n",
    "class Dog(object):\n",
    "    \n",
    "    area = \"美国\"\n",
    "    \n",
    "    def __init__(self, name, color, height):  \n",
    "        self.name = name  \n",
    "        self.color = color\n",
    "        self.height = height\n",
    "        \n",
    "    def info(self):  \n",
    "         print(\"我是一只{}狗，我的名字叫{}，我的颜色是{}，我身高{}厘米\".format(self.area, self.name , self.color, self.height))\n",
    "    \n",
    "    def bark(self):\n",
    "        self.info()  \n",
    "        print(\"我要开始叫了奥，'汪汪汪！！！'\")\n",
    "        \n",
    "        \n",
    "# 定义父类2\n",
    "class RunnableAnimal(object):\n",
    "    \n",
    "    def __init__(self, species):\n",
    "        self.species = species\n",
    "        \n",
    "    def run(self):\n",
    "        print(\"我是{},是一种会跑的动物\".format(self.species))\n",
    "        \n",
    "\n",
    "# 创建子类，这个子类继承了Dog、RunnableAnimal两个类\n",
    "class KoreaDog(Dog, RunnableAnimal):\n",
    "\n",
    "    area = \"韩国\" \n",
    "    \n",
    "    def __init__(self, name, color, height, species):\n",
    "#         super().__init__(name, color, height, species)  \n",
    "        Dog.__init__(self, name, color, height)\n",
    "        RunnableAnimal.__init__(self, species)\n",
    "        \n",
    "        \n",
    "if __name__ == \"__main__\":\n",
    "    Korea_dog_2 = KoreaDog(\"슬기\", \"white\", 80, \"狗\")\n",
    "    Korea_dog_2.run()\n",
    "    Korea_dog_2.info()\n",
    "    Korea_dog_2.bark()\n",
    "  "
   ]
  },
  {
   "cell_type": "markdown",
   "metadata": {},
   "source": [
    "#### 3、参考资料\n",
    "* https://blog.csdn.net/qq_26442553/article/details/81775449"
   ]
  },
  {
   "cell_type": "markdown",
   "metadata": {},
   "source": [
    "**3.1 不使用super调用父类方法，使用```父类名.方法名```的形式**"
   ]
  },
  {
   "cell_type": "code",
   "execution_count": 21,
   "metadata": {},
   "outputs": [
    {
     "name": "stdout",
     "output_type": "stream",
     "text": [
      "Grandson的init开始被调用\n",
      "Son1的init开始被调用\n",
      "parent的init开始被调用\n",
      "parent的init结束被调用\n",
      "Son1的init结束被调用\n",
      "Son2的init开始被调用\n",
      "parent的init开始被调用\n",
      "parent的init结束被调用\n",
      "Son2的init结束被调用\n",
      "Grandson的init结束被调用\n",
      "姓名： grandson\n",
      "年龄： 12\n",
      "性别： 男\n"
     ]
    }
   ],
   "source": [
    "class Parent(object):\n",
    "    def __init__(self, name):\n",
    "        print('parent的init开始被调用')\n",
    "        self.name = name\n",
    "        print('parent的init结束被调用')\n",
    "        \n",
    "class Son1(Parent):\n",
    "    def __init__(self, name, age):\n",
    "        print('Son1的init开始被调用')\n",
    "        self.age = age\n",
    "        Parent.__init__(self, name) #直接使用父类名.方法名的方式调用父类的__init__方法\n",
    "        print('Son1的init结束被调用')\n",
    "        \n",
    "class Son2(Parent):\n",
    "    def __init__(self, name, gender):\n",
    "        print('Son2的init开始被调用')\n",
    "        self.gender = gender\n",
    "        Parent.__init__(self, name) #\n",
    "        print('Son2的init结束被调用')\n",
    "        \n",
    "class Grandson(Son1, Son2):\n",
    "    def __init__(self, name, age, gender):\n",
    "        print('Grandson的init开始被调用')\n",
    "        Son1.__init__(self, name, age)  # 单独调用父类的初始化方法\n",
    "        Son2.__init__(self, name, gender)\n",
    "        print('Grandson的init结束被调用')\n",
    "        \n",
    "gs = Grandson('grandson', 12, '男') \n",
    "print('姓名：', gs.name)\n",
    "print('年龄：', gs.age)\n",
    "print('性别：', gs.gender)"
   ]
  },
  {
   "cell_type": "markdown",
   "metadata": {},
   "source": [
    "**3.2 使用super调用父类中的方法，注意分析程序的执行顺序**"
   ]
  },
  {
   "cell_type": "code",
   "execution_count": 22,
   "metadata": {},
   "outputs": [
    {
     "name": "stdout",
     "output_type": "stream",
     "text": [
      "(<class '__main__.Grandson'>, <class '__main__.Son1'>, <class '__main__.Son2'>, <class '__main__.Parent'>, <class 'object'>)\n",
      "Grandson的init开始被调用\n",
      "Son1的init开始被调用\n",
      "Son2的init开始被调用\n",
      "parent的init开始被调用\n",
      "parent的init结束被调用\n",
      "Son2的init结束被调用\n",
      "Son1的init结束被调用\n",
      "Grandson的init结束被调用\n",
      "姓名： grandson\n",
      "年龄： 12\n",
      "性别： 男\n"
     ]
    }
   ],
   "source": [
    "class Parent(object):\n",
    "    def __init__(self, name, *args, **kwargs):  # 为避免多继承报错，使用不定长参数，接受参数\n",
    "        print('parent的init开始被调用')\n",
    "        self.name = name\n",
    "        print('parent的init结束被调用')\n",
    "        \n",
    "class Son1(Parent):\n",
    "    def __init__(self, name, age, *args, **kwargs):  # 为避免多继承报错，使用不定长参数，接受参数\n",
    "        print('Son1的init开始被调用')\n",
    "        self.age = age\n",
    "        super().__init__(name, *args, **kwargs)  # 为避免多继承报错，使用不定长参数，接受参数\n",
    "        print('Son1的init结束被调用')\n",
    "        \n",
    "class Son2(Parent):\n",
    "    def __init__(self, name, gender, *args, **kwargs):  # 为避免多继承报错，使用不定长参数，接受参数\n",
    "        print('Son2的init开始被调用')\n",
    "        self.gender = gender\n",
    "        super().__init__(name, *args, **kwargs)  # 为避免多继承报错，使用不定长参数，接受参数\n",
    "        print('Son2的init结束被调用')\n",
    "        \n",
    "class Grandson(Son1, Son2):\n",
    "    def __init__(self, name, age, gender):\n",
    "        print('Grandson的init开始被调用')\n",
    "        # 多继承时，相对于使用类名.__init__方法，要把每个父类全部写一遍\n",
    "        # 而super只用一句话，执行了全部父类的方法，这也是为何多继承需要全部传参的一个原因\n",
    "        # super(Grandson, self).__init__(name, age, gender) 效果和下面的一样\n",
    "        super().__init__(name, age, gender)\n",
    "        print('Grandson的init结束被调用')\n",
    "        \n",
    "print(Grandson.__mro__) #搜索顺序\n",
    " \n",
    "gs = Grandson('grandson', 12, '男')\n",
    " \n",
    "print('姓名：', gs.name)\n",
    "print('年龄：', gs.age)\n",
    "print('性别：', gs.gender)"
   ]
  },
  {
   "cell_type": "markdown",
   "metadata": {},
   "source": [
    "## 六、模块与包"
   ]
  },
  {
   "cell_type": "markdown",
   "metadata": {},
   "source": [
    "* 模块是一个包含所有你定义的函数和变量的文件，其后缀名是.py。模块可以被别的程序引入，以使用该模块中的函数等功能。这也是使用 python 标准库的方法。\n",
    "* 包是一种管理 Python 模块命名空间的形式。比如一个模块的名称是 A.B， 那么他表示一个包 A中的子模块 B 。"
   ]
  },
  {
   "cell_type": "markdown",
   "metadata": {},
   "source": [
    "### （一）import语句\n",
    "```import module1[, module2[,... moduleN]```"
   ]
  },
  {
   "cell_type": "code",
   "execution_count": 23,
   "metadata": {},
   "outputs": [],
   "source": [
    "import pandas as pd  # 导入pandas包，别名为pd\n",
    "# dir(pd)   # 查看pd里的模块"
   ]
  },
  {
   "cell_type": "markdown",
   "metadata": {},
   "source": [
    "### （二）from … import 语句\n",
    "```from modname import name1[, name2[, ... nameN]]```"
   ]
  },
  {
   "cell_type": "code",
   "execution_count": 24,
   "metadata": {},
   "outputs": [],
   "source": [
    "from sklearn.linear_model import LogisticRegression as LR  # 从sklearn包下的linear_model模块导入LogisticRegression，别名为LR\n",
    "# dir(LR)"
   ]
  },
  {
   "cell_type": "markdown",
   "metadata": {},
   "source": [
    "### （三）from … import * 语句\n",
    "* 把一个模块的所有内容全都导入到当前的命名空间\n",
    "\n",
    "```from modname import *```"
   ]
  },
  {
   "cell_type": "markdown",
   "metadata": {},
   "source": [
    "## 七、文件读取与写入"
   ]
  },
  {
   "cell_type": "markdown",
   "metadata": {},
   "source": [
    "### （一）文件读取"
   ]
  },
  {
   "cell_type": "code",
   "execution_count": 25,
   "metadata": {},
   "outputs": [
    {
     "name": "stdout",
     "output_type": "stream",
     "text": [
      "第一行\n",
      "第二行\n",
      "第三行\n",
      "第四行\n",
      "第五行\n",
      "第六行\n"
     ]
    }
   ],
   "source": [
    "# 整文读取\n",
    "with open('r_test.txt', encoding='utf-8') as file_object:\n",
    "    contents = file_object.read()\n",
    "    print(contents.rstrip())"
   ]
  },
  {
   "cell_type": "code",
   "execution_count": 26,
   "metadata": {},
   "outputs": [
    {
     "name": "stdout",
     "output_type": "stream",
     "text": [
      "第一行\n",
      "第二行\n",
      "第三行\n",
      "第四行\n",
      "第五行\n",
      "第六行\n"
     ]
    }
   ],
   "source": [
    "# 逐行读取\n",
    "with open('r_test.txt', encoding='utf-8') as file_object:\n",
    "    for line in file_object:\n",
    "        print(line.rstrip())"
   ]
  },
  {
   "cell_type": "code",
   "execution_count": 27,
   "metadata": {},
   "outputs": [
    {
     "name": "stdout",
     "output_type": "stream",
     "text": [
      "['第一行\\n', '第二行\\n', '第三行\\n', '第四行\\n', '第五行\\n', '第六行']\n"
     ]
    }
   ],
   "source": [
    "# 储存为列表\n",
    "with open('r_test.txt', encoding='utf-8') as file_object:\n",
    "    lines = file_object.readlines()\n",
    "\n",
    "print(lines)"
   ]
  },
  {
   "cell_type": "markdown",
   "metadata": {},
   "source": [
    "### （二）写入文件"
   ]
  },
  {
   "cell_type": "code",
   "execution_count": 28,
   "metadata": {},
   "outputs": [],
   "source": [
    "with open('w_test.txt', 'w', encoding='utf-8') as file_object:\n",
    "    for i in range(1, 100):\n",
    "        file_object.write(\"写入第{}行\\n\".format(i))\n",
    "        if i > 100:\n",
    "            break"
   ]
  },
  {
   "cell_type": "markdown",
   "metadata": {},
   "source": [
    "## 八、异常处理"
   ]
  },
  {
   "cell_type": "markdown",
   "metadata": {},
   "source": [
    "### （一）try...except"
   ]
  },
  {
   "cell_type": "markdown",
   "metadata": {},
   "source": [
    "**图示：**\n",
    "<img src='try_except.png' width='600'>"
   ]
  },
  {
   "cell_type": "code",
   "execution_count": 29,
   "metadata": {},
   "outputs": [
    {
     "name": "stdout",
     "output_type": "stream",
     "text": [
      "第一行\n",
      "第二行\n",
      "第三行\n",
      "第四行\n",
      "第五行\n",
      "第六行\n",
      "你的变量没有定义！\n"
     ]
    }
   ],
   "source": [
    "try:\n",
    "    with open('r_test.txt', encoding='utf-8') as file_object:\n",
    "        contents = file_object.read()\n",
    "        print(contents.rstrip())\n",
    "    print(undefined_value)\n",
    "except UnicodeDecodeError:\n",
    "    print(\"gbk解码器无法解码byte！\")\n",
    "except NameError:\n",
    "    print(\"你的变量没有定义！\")\n",
    "except:\n",
    "    print(\"出现了未知错误！\")\n",
    "    "
   ]
  },
  {
   "cell_type": "markdown",
   "metadata": {},
   "source": [
    "### （二）try...except...else"
   ]
  },
  {
   "cell_type": "markdown",
   "metadata": {},
   "source": [
    "**图示:**\n",
    "<img src='try_except_else.png' width='600'>"
   ]
  },
  {
   "cell_type": "code",
   "execution_count": 30,
   "metadata": {},
   "outputs": [
    {
     "name": "stdout",
     "output_type": "stream",
     "text": [
      "第一行\n",
      "第二行\n",
      "第三行\n",
      "第四行\n",
      "第五行\n",
      "第六行\n"
     ]
    }
   ],
   "source": [
    "try:\n",
    "    with open('r_test.txt', encoding='utf-8') as file_object:\n",
    "        contents = file_object.read()\n",
    "except UnicodeDecodeError:\n",
    "    print(\"gbk解码器无法解码byte！\")\n",
    "except:\n",
    "    print(\"出现了未知错误！\")\n",
    "else:\n",
    "    print(contents.rstrip())"
   ]
  },
  {
   "cell_type": "markdown",
   "metadata": {},
   "source": [
    "### （三）try...except...else...finally"
   ]
  },
  {
   "cell_type": "markdown",
   "metadata": {},
   "source": [
    "**图示：**\n",
    "<img src='try_except_else_finally.png' width='600'>"
   ]
  },
  {
   "cell_type": "code",
   "execution_count": 31,
   "metadata": {},
   "outputs": [
    {
     "name": "stdout",
     "output_type": "stream",
     "text": [
      "第一行\n",
      "第二行\n",
      "第三行\n",
      "第四行\n",
      "第五行\n",
      "第六行\n",
      "这句话不管有没有异常都会执行！\n"
     ]
    }
   ],
   "source": [
    "try:\n",
    "    with open('r_test.txt', encoding='utf-8') as file_object:\n",
    "        contents = file_object.read()\n",
    "except UnicodeDecodeError:\n",
    "    print(\"gbk解码器无法解码byte！\")\n",
    "except:\n",
    "    print(\"出现了未知错误！\")\n",
    "else:\n",
    "    print(contents.rstrip())\n",
    "finally:\n",
    "    print(\"这句话不管有没有异常都会执行！\")"
   ]
  },
  {
   "cell_type": "markdown",
   "metadata": {},
   "source": [
    "### （四）raise语句，抛出异常"
   ]
  },
  {
   "cell_type": "markdown",
   "metadata": {},
   "source": [
    "**图示**\n",
    "<img src='raise.png' width='600'>"
   ]
  },
  {
   "cell_type": "markdown",
   "metadata": {},
   "source": [
    "* 语法：\n",
    "```raise [Exception [, args [, traceback]]]```"
   ]
  },
  {
   "cell_type": "code",
   "execution_count": 32,
   "metadata": {},
   "outputs": [
    {
     "name": "stdout",
     "output_type": "stream",
     "text": [
      "1\n",
      "2\n",
      "3\n",
      "4\n",
      "5\n",
      "6\n",
      "7\n",
      "8\n",
      "9\n",
      "10\n",
      "11\n"
     ]
    },
    {
     "ename": "Exception",
     "evalue": "i不能超过10！",
     "output_type": "error",
     "traceback": [
      "\u001b[1;31m---------------------------------------------------------------------------\u001b[0m",
      "\u001b[1;31mException\u001b[0m                                 Traceback (most recent call last)",
      "\u001b[1;32m<ipython-input-32-59f951a1dd39>\u001b[0m in \u001b[0;36m<module>\u001b[1;34m\u001b[0m\n\u001b[0;32m      2\u001b[0m     \u001b[0mprint\u001b[0m\u001b[1;33m(\u001b[0m\u001b[0mi\u001b[0m\u001b[1;33m)\u001b[0m\u001b[1;33m\u001b[0m\u001b[1;33m\u001b[0m\u001b[0m\n\u001b[0;32m      3\u001b[0m     \u001b[1;32mif\u001b[0m \u001b[0mi\u001b[0m \u001b[1;33m>\u001b[0m \u001b[1;36m10\u001b[0m\u001b[1;33m:\u001b[0m\u001b[1;33m\u001b[0m\u001b[1;33m\u001b[0m\u001b[0m\n\u001b[1;32m----> 4\u001b[1;33m         \u001b[1;32mraise\u001b[0m \u001b[0mException\u001b[0m\u001b[1;33m(\u001b[0m\u001b[1;34m'i不能超过10！'\u001b[0m\u001b[1;33m)\u001b[0m\u001b[1;33m\u001b[0m\u001b[1;33m\u001b[0m\u001b[0m\n\u001b[0m",
      "\u001b[1;31mException\u001b[0m: i不能超过10！"
     ]
    }
   ],
   "source": [
    "for i in range(1, 100):\n",
    "    print(i)\n",
    "    if i > 10:\n",
    "        raise Exception('i不能超过10！')"
   ]
  },
  {
   "cell_type": "markdown",
   "metadata": {},
   "source": [
    "## 九、测试"
   ]
  },
  {
   "cell_type": "markdown",
   "metadata": {},
   "source": [
    "> Python标准库中的模块unittest提供了代码测试工具。**单元测试**用于核实函数的某个方面没\n",
    "有问题；**测试用例**是一组单元测试，这些单元测试一起核实函数在各种情形下的行为都符合要求。\n",
    "良好的测试用例考虑到了函数可能收到的各种输入，包含针对所有这些情形的测试。**全覆盖式测\n",
    "试用例**包含一整套单元测试，涵盖了各种可能的函数使用方式"
   ]
  },
  {
   "cell_type": "markdown",
   "metadata": {},
   "source": [
    "#### 两个简单的例子"
   ]
  },
  {
   "cell_type": "code",
   "execution_count": 33,
   "metadata": {},
   "outputs": [
    {
     "name": "stderr",
     "output_type": "stream",
     "text": [
      ".\n",
      "----------------------------------------------------------------------\n",
      "Ran 1 test in 0.001s\n",
      "\n",
      "OK\n"
     ]
    }
   ],
   "source": [
    "def get_formatted_name(first, last):\n",
    "    full_name = first + last\n",
    "    return full_name.title()\n",
    "\n",
    "import unittest\n",
    "\n",
    "class NameTestCase(unittest.TestCase):\n",
    "    def test_first_last_name(self):\n",
    "        formatted_name = get_formatted_name(\"王\", \"二狗\")\n",
    "        self.assertEqual(formatted_name, \"王二狗\")  # 这里是一个断言，将formatted_name和\"王二狗\"进行比较，如果二者相等就进行提示\n",
    "        \n",
    "if __name__ == '__main__':\n",
    "    unittest.main(argv=['first-arg-is-ignored'], exit=False)"
   ]
  },
  {
   "cell_type": "code",
   "execution_count": 34,
   "metadata": {},
   "outputs": [
    {
     "name": "stderr",
     "output_type": "stream",
     "text": [
      "E\n",
      "======================================================================\n",
      "ERROR: test_first_last_name (__main__.NameTestCase)\n",
      "----------------------------------------------------------------------\n",
      "Traceback (most recent call last):\n",
      "  File \"<ipython-input-34-2226e7acecc3>\", line 9, in test_first_last_name\n",
      "    formatted_name = get_formatted_name(\"王\", \"二狗\")\n",
      "TypeError: get_formatted_name() missing 1 required positional argument: 'last'\n",
      "\n",
      "----------------------------------------------------------------------\n",
      "Ran 1 test in 0.001s\n",
      "\n",
      "FAILED (errors=1)\n"
     ]
    }
   ],
   "source": [
    "def get_formatted_name(first, middle, last):\n",
    "    full_name = first + middle + last\n",
    "    return full_name.title()\n",
    "\n",
    "import unittest\n",
    "\n",
    "class NameTestCase(unittest.TestCase):\n",
    "    def test_first_last_name(self):\n",
    "        formatted_name = get_formatted_name(\"王\", \"二狗\")\n",
    "        self.assertEqual(formatted_name, \"王二狗\")  # 这里是一个断言，将formatted_name和\"王二狗\"进行比较，如果二者相等就进行提示\n",
    "        \n",
    "if __name__ == '__main__':\n",
    "    unittest.main(argv=['first-arg-is-ignored'], exit=False)"
   ]
  },
  {
   "cell_type": "markdown",
   "metadata": {},
   "source": [
    "#### unittest Module中的常用断言方法"
   ]
  },
  {
   "cell_type": "markdown",
   "metadata": {},
   "source": [
    "* ```assertEqual(a, b)```：核实a == b\n",
    "* ```assertNotEqual(a, b)```：核实a != b\n",
    "* ```assertTrue(x)```：核实x为True\n",
    "* ```assertFalse(x)```：核实x为False\n",
    "* ```assertIn(item, list)```：核实item在list中\n",
    "* ```assertNotIn(item, list)```：核实item不在list中"
   ]
  },
  {
   "cell_type": "markdown",
   "metadata": {},
   "source": [
    "## 专题一：迭代器与生成器"
   ]
  },
  {
   "cell_type": "markdown",
   "metadata": {},
   "source": [
    "* 待补充"
   ]
  },
  {
   "cell_type": "markdown",
   "metadata": {},
   "source": [
    "## 专题二：工厂模式"
   ]
  },
  {
   "cell_type": "markdown",
   "metadata": {},
   "source": [
    "* 待补充"
   ]
  }
 ],
 "metadata": {
  "kernelspec": {
   "display_name": "Python 3",
   "language": "python",
   "name": "python3"
  },
  "language_info": {
   "codemirror_mode": {
    "name": "ipython",
    "version": 3
   },
   "file_extension": ".py",
   "mimetype": "text/x-python",
   "name": "python",
   "nbconvert_exporter": "python",
   "pygments_lexer": "ipython3",
   "version": "3.7.3"
  }
 },
 "nbformat": 4,
 "nbformat_minor": 2
}
